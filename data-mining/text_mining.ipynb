{
  "nbformat": 4,
  "nbformat_minor": 0,
  "metadata": {
    "colab": {
      "name": "text_mining.ipynb",
      "private_outputs": true,
      "provenance": [],
      "collapsed_sections": []
    },
    "kernelspec": {
      "name": "python3",
      "display_name": "Python 3"
    },
    "language_info": {
      "name": "python"
    }
  },
  "cells": [
    {
      "cell_type": "markdown",
      "source": [
        "# 할일\n",
        "\n",
        "1. txt파일 가져와서 split\n",
        "2. 1개의 column 개수 확인해보기\n",
        "3. 2개의 column (라벨) 별 개수 확인해보기 (3개지 경우의 수)\n",
        "4. 형태소 분리기 가져오기 (종류별...)\n",
        "5. Mecab을 토대로, 분석해서 tokenized 칼럼생성하기\n",
        "6. 개발환경 세팅해서 커밋하기"
      ],
      "metadata": {
        "id": "84tl40gIvjVG"
      }
    },
    {
      "cell_type": "code",
      "source": [
        "from google.colab import drive\n",
        "drive.mount('/content/drive')"
      ],
      "metadata": {
        "id": "5hBLfUgbEc5y"
      },
      "execution_count": null,
      "outputs": []
    },
    {
      "cell_type": "code",
      "source": [
        "! cd ..\n",
        "! pwd"
      ],
      "metadata": {
        "id": "0e2T0qShIrns"
      },
      "execution_count": null,
      "outputs": []
    },
    {
      "cell_type": "code",
      "source": [
        "path = '../sample_data/total_data.txt'"
      ],
      "metadata": {
        "id": "Qvunnkq6E2Dg"
      },
      "execution_count": null,
      "outputs": []
    },
    {
      "cell_type": "code",
      "source": [
        "import pandas as pd\n",
        "\n",
        "total_data = pd.read_csv(path, sep='|', header=0, encoding='cp949') # encoding check!!"
      ],
      "metadata": {
        "id": "1JGWb8tbIccq"
      },
      "execution_count": null,
      "outputs": []
    },
    {
      "cell_type": "code",
      "source": [
        "total_data.head()"
      ],
      "metadata": {
        "id": "P16AEMQ1JJzN"
      },
      "execution_count": null,
      "outputs": []
    },
    {
      "cell_type": "code",
      "source": [
        "print('데이터 프레임의 전체 데이터 형태 : {}'.format(total_data.shape))\n",
        "print('데이터 프레임의 차원 : {}'.format(total_data.ndim))\n",
        "print('데이터 프레임의 전체 데이터 길이 : {} '.format(total_data.size))"
      ],
      "metadata": {
        "id": "RnNLWB1eJRP0"
      },
      "execution_count": null,
      "outputs": []
    },
    {
      "cell_type": "code",
      "source": [
        "# 컬럼명과 컬럼별 결측치, 컬럼별 데이터타입\n",
        "\n",
        "total_data.info()"
      ],
      "metadata": {
        "id": "mYiAZITdJ7YB"
      },
      "execution_count": null,
      "outputs": []
    },
    {
      "cell_type": "code",
      "source": [
        "# 데이터 통계 -> 숫자로 표현된 데이터만 나타남\n",
        "\n",
        "total_data.describe()"
      ],
      "metadata": {
        "id": "8P55Uw6nKSF0"
      },
      "execution_count": null,
      "outputs": []
    },
    {
      "cell_type": "code",
      "source": [
        "# label 분포 확인\n",
        "## total_data.ununique() 를 통해 전체 확인 가능\n",
        "print('digit_1 : {}'.format(total_data.digit_1.nunique()))\n",
        "print('digit_2 : {}'.format(total_data.digit_2.nunique()))\n",
        "print('digit_3 : {}'.format(total_data.digit_3.nunique()))"
      ],
      "metadata": {
        "id": "bwIf1cwaKe-a"
      },
      "execution_count": null,
      "outputs": []
    },
    {
      "cell_type": "markdown",
      "source": [
        "# digit_1 분석"
      ],
      "metadata": {
        "id": "pSPewZBbLsdh"
      }
    },
    {
      "cell_type": "code",
      "source": [
        "import numpy as np\n",
        "\n",
        "np.sum(pd.isnull(total_data.digit_1))"
      ],
      "metadata": {
        "id": "M1IXSk21Kzvg"
      },
      "execution_count": null,
      "outputs": []
    },
    {
      "cell_type": "code",
      "source": [
        "print('digit_1 : {}'.format(total_data.digit_1.nunique()))"
      ],
      "metadata": {
        "id": "-zDs5WEjL-sW"
      },
      "execution_count": null,
      "outputs": []
    },
    {
      "cell_type": "code",
      "source": [
        "CountStatus = pd.value_counts(total_data['digit_1'].values, sort = True)\n",
        "CountStatus.plot.bar()\n",
        "CountStatus.plot.bar(grid=True, figsize=(10,8), fontsize=15)  # figsize, fontsize 조정\n",
        "print(\"전체 데이터의 갯수 : {}\".format(total_data.shape))"
      ],
      "metadata": {
        "id": "BTEvilo8MGhZ"
      },
      "execution_count": null,
      "outputs": []
    },
    {
      "cell_type": "markdown",
      "source": [
        "# Digit_ 2 분석"
      ],
      "metadata": {
        "id": "e1M2nvV1NAHd"
      }
    },
    {
      "cell_type": "code",
      "source": [
        "np.sum(pd.isnull(total_data.digit_2))"
      ],
      "metadata": {
        "id": "xJ1MHC0KNFIt"
      },
      "execution_count": null,
      "outputs": []
    },
    {
      "cell_type": "code",
      "source": [
        "print('digit_2 : {}'.format(total_data.digit_2.nunique()))"
      ],
      "metadata": {
        "id": "JrRIkY5nNGyb"
      },
      "execution_count": null,
      "outputs": []
    },
    {
      "cell_type": "code",
      "source": [
        "CountStatus = pd.value_counts(total_data['digit_2'].values, sort = True)\n",
        "CountStatus.plot.bar()\n",
        "CountStatus.plot.bar(grid=True, figsize=(10,8), fontsize=15)  # figsize, fontsize 조정\n",
        "print(\"전체 데이터의 갯수 : {}\".format(total_data.shape))"
      ],
      "metadata": {
        "id": "XvljGHFBNG0z"
      },
      "execution_count": null,
      "outputs": []
    },
    {
      "cell_type": "code",
      "source": [
        "# condition term을 통해 확인!!\n",
        "CountStatus = pd.value_counts(total_data[total_data.digit_1 == 'G']['digit_2'].values, sort = True)\n",
        "CountStatus.plot.bar()\n",
        "CountStatus.plot.bar(grid=True, figsize=(10,8), fontsize=15)  # figsize, fontsize 조정\n",
        "print(\"전체 데이터의 갯수 : {}\".format(total_data.shape))"
      ],
      "metadata": {
        "id": "GJtrwXN3NRGg"
      },
      "execution_count": null,
      "outputs": []
    },
    {
      "cell_type": "code",
      "source": [
        "# Mecab install to lemmatization && stemming korean\n",
        "!git clone https://github.com/SOMJANG/Mecab-ko-for-Google-Colab.git\n",
        "%cd Mecab-ko-for-Google-Colab\n",
        "!bash install_mecab-ko_on_colab190912.sh"
      ],
      "metadata": {
        "id": "hdSZOLAzEdyM"
      },
      "execution_count": null,
      "outputs": []
    },
    {
      "cell_type": "code",
      "source": [
        "from konlpy.tag import mecab\n",
        "\n"
      ],
      "metadata": {
        "id": "NyqwqlCyF2Fx"
      },
      "execution_count": null,
      "outputs": []
    }
  ]
}